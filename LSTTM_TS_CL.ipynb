{
  "nbformat": 4,
  "nbformat_minor": 0,
  "metadata": {
    "colab": {
      "name": "LSTTM_TS_CL.ipynb",
      "provenance": [],
      "authorship_tag": "ABX9TyPeQpU7hB0bnXW/gXe22o5r",
      "include_colab_link": true
    },
    "kernelspec": {
      "name": "python3",
      "display_name": "Python 3"
    },
    "language_info": {
      "name": "python"
    }
  },
  "cells": [
    {
      "cell_type": "markdown",
      "metadata": {
        "id": "view-in-github",
        "colab_type": "text"
      },
      "source": [
        "<a href=\"https://colab.research.google.com/github/shampulooki/FirstRepo/blob/master/LSTTM_TS_CL.ipynb\" target=\"_parent\"><img src=\"https://colab.research.google.com/assets/colab-badge.svg\" alt=\"Open In Colab\"/></a>"
      ]
    },
    {
      "cell_type": "code",
      "execution_count": 1,
      "metadata": {
        "id": "8es2xzOhBurk"
      },
      "outputs": [],
      "source": [
        "import pandas as pd\n",
        "import numpy as np\n",
        "import matplotlib.pyplot as plt\n",
        "from os import listdir\n"
      ]
    },
    {
      "cell_type": "code",
      "source": [
        "\n",
        "import tensorflow as tf\n",
        "from tensorflow.keras.preprocessing.image import ImageDataGenerator\n",
        "from tensorflow.keras.models import Sequential\n",
        "from tensorflow.keras.layers import Dense, Conv2D, Flatten, Dropout, MaxPooling2D, Activation\n",
        "from tensorflow.keras.preprocessing import image\n",
        "import matplotlib.pyplot as plt\n",
        "import matplotlib.image as mpimg\n",
        "\n"
      ],
      "metadata": {
        "id": "a-IOlGatD8bX"
      },
      "execution_count": 3,
      "outputs": []
    },
    {
      "cell_type": "code",
      "source": [
        "import numpy\n",
        "import matplotlib.pyplot as plt\n",
        "import pandas\n",
        "import math\n",
        "from keras.models import Sequential\n",
        "from keras.layers import Dense\n",
        "from keras.layers import LSTM\n",
        "from sklearn.preprocessing import MinMaxScaler\n",
        "from sklearn.metrics import mean_squared_error"
      ],
      "metadata": {
        "id": "DAaaMioKaGlk"
      },
      "execution_count": 4,
      "outputs": []
    },
    {
      "cell_type": "code",
      "source": [
        "from keras.preprocessing import sequence\n",
        "import tensorflow as tf\n",
        "from keras.models import Sequential\n",
        "from keras.layers import Dense\n",
        "from keras.layers import LSTM\n",
        "from tensorflow.keras.optimizers import Adam\n",
        "# from keras.optimizers import Adam\n",
        "from keras.models import load_model\n",
        "from keras.callbacks import ModelCheckpoint"
      ],
      "metadata": {
        "id": "Gl2kEkFKE8at"
      },
      "execution_count": 2,
      "outputs": []
    },
    {
      "cell_type": "code",
      "source": [
        "# df1 = pd.read_csv('MovementAAL_RSS_1.csv')\n",
        "# df2 = pd.read_csv('MovementAAL_RSS_2.csv')\n",
        "# fix random seed for reproducibility\n",
        "numpy.random.seed(7)"
      ],
      "metadata": {
        "id": "gNyX3BtNEaYF"
      },
      "execution_count": 6,
      "outputs": []
    },
    {
      "cell_type": "code",
      "source": [
        "# load the dataset\n",
        "dataframe = pandas.read_csv('airline_passengers.csv', usecols=[1], engine='python')\n",
        "dataset = dataframe.values\n",
        "dataset = dataset.astype('float32')"
      ],
      "metadata": {
        "id": "bDbYw1ODa0d_"
      },
      "execution_count": 8,
      "outputs": []
    },
    {
      "cell_type": "code",
      "source": [
        "dataframe.head()"
      ],
      "metadata": {
        "colab": {
          "base_uri": "https://localhost:8080/",
          "height": 206
        },
        "id": "NUdulhYEKd7o",
        "outputId": "8a1a3b4c-cc7c-405a-8c7e-5c910ac5eacf"
      },
      "execution_count": 9,
      "outputs": [
        {
          "output_type": "execute_result",
          "data": {
            "text/html": [
              "\n",
              "  <div id=\"df-c366ab81-610b-48ea-ab17-c92da65e9342\">\n",
              "    <div class=\"colab-df-container\">\n",
              "      <div>\n",
              "<style scoped>\n",
              "    .dataframe tbody tr th:only-of-type {\n",
              "        vertical-align: middle;\n",
              "    }\n",
              "\n",
              "    .dataframe tbody tr th {\n",
              "        vertical-align: top;\n",
              "    }\n",
              "\n",
              "    .dataframe thead th {\n",
              "        text-align: right;\n",
              "    }\n",
              "</style>\n",
              "<table border=\"1\" class=\"dataframe\">\n",
              "  <thead>\n",
              "    <tr style=\"text-align: right;\">\n",
              "      <th></th>\n",
              "      <th>passengers</th>\n",
              "    </tr>\n",
              "  </thead>\n",
              "  <tbody>\n",
              "    <tr>\n",
              "      <th>0</th>\n",
              "      <td>112</td>\n",
              "    </tr>\n",
              "    <tr>\n",
              "      <th>1</th>\n",
              "      <td>118</td>\n",
              "    </tr>\n",
              "    <tr>\n",
              "      <th>2</th>\n",
              "      <td>132</td>\n",
              "    </tr>\n",
              "    <tr>\n",
              "      <th>3</th>\n",
              "      <td>129</td>\n",
              "    </tr>\n",
              "    <tr>\n",
              "      <th>4</th>\n",
              "      <td>121</td>\n",
              "    </tr>\n",
              "  </tbody>\n",
              "</table>\n",
              "</div>\n",
              "      <button class=\"colab-df-convert\" onclick=\"convertToInteractive('df-c366ab81-610b-48ea-ab17-c92da65e9342')\"\n",
              "              title=\"Convert this dataframe to an interactive table.\"\n",
              "              style=\"display:none;\">\n",
              "        \n",
              "  <svg xmlns=\"http://www.w3.org/2000/svg\" height=\"24px\"viewBox=\"0 0 24 24\"\n",
              "       width=\"24px\">\n",
              "    <path d=\"M0 0h24v24H0V0z\" fill=\"none\"/>\n",
              "    <path d=\"M18.56 5.44l.94 2.06.94-2.06 2.06-.94-2.06-.94-.94-2.06-.94 2.06-2.06.94zm-11 1L8.5 8.5l.94-2.06 2.06-.94-2.06-.94L8.5 2.5l-.94 2.06-2.06.94zm10 10l.94 2.06.94-2.06 2.06-.94-2.06-.94-.94-2.06-.94 2.06-2.06.94z\"/><path d=\"M17.41 7.96l-1.37-1.37c-.4-.4-.92-.59-1.43-.59-.52 0-1.04.2-1.43.59L10.3 9.45l-7.72 7.72c-.78.78-.78 2.05 0 2.83L4 21.41c.39.39.9.59 1.41.59.51 0 1.02-.2 1.41-.59l7.78-7.78 2.81-2.81c.8-.78.8-2.07 0-2.86zM5.41 20L4 18.59l7.72-7.72 1.47 1.35L5.41 20z\"/>\n",
              "  </svg>\n",
              "      </button>\n",
              "      \n",
              "  <style>\n",
              "    .colab-df-container {\n",
              "      display:flex;\n",
              "      flex-wrap:wrap;\n",
              "      gap: 12px;\n",
              "    }\n",
              "\n",
              "    .colab-df-convert {\n",
              "      background-color: #E8F0FE;\n",
              "      border: none;\n",
              "      border-radius: 50%;\n",
              "      cursor: pointer;\n",
              "      display: none;\n",
              "      fill: #1967D2;\n",
              "      height: 32px;\n",
              "      padding: 0 0 0 0;\n",
              "      width: 32px;\n",
              "    }\n",
              "\n",
              "    .colab-df-convert:hover {\n",
              "      background-color: #E2EBFA;\n",
              "      box-shadow: 0px 1px 2px rgba(60, 64, 67, 0.3), 0px 1px 3px 1px rgba(60, 64, 67, 0.15);\n",
              "      fill: #174EA6;\n",
              "    }\n",
              "\n",
              "    [theme=dark] .colab-df-convert {\n",
              "      background-color: #3B4455;\n",
              "      fill: #D2E3FC;\n",
              "    }\n",
              "\n",
              "    [theme=dark] .colab-df-convert:hover {\n",
              "      background-color: #434B5C;\n",
              "      box-shadow: 0px 1px 3px 1px rgba(0, 0, 0, 0.15);\n",
              "      filter: drop-shadow(0px 1px 2px rgba(0, 0, 0, 0.3));\n",
              "      fill: #FFFFFF;\n",
              "    }\n",
              "  </style>\n",
              "\n",
              "      <script>\n",
              "        const buttonEl =\n",
              "          document.querySelector('#df-c366ab81-610b-48ea-ab17-c92da65e9342 button.colab-df-convert');\n",
              "        buttonEl.style.display =\n",
              "          google.colab.kernel.accessAllowed ? 'block' : 'none';\n",
              "\n",
              "        async function convertToInteractive(key) {\n",
              "          const element = document.querySelector('#df-c366ab81-610b-48ea-ab17-c92da65e9342');\n",
              "          const dataTable =\n",
              "            await google.colab.kernel.invokeFunction('convertToInteractive',\n",
              "                                                     [key], {});\n",
              "          if (!dataTable) return;\n",
              "\n",
              "          const docLinkHtml = 'Like what you see? Visit the ' +\n",
              "            '<a target=\"_blank\" href=https://colab.research.google.com/notebooks/data_table.ipynb>data table notebook</a>'\n",
              "            + ' to learn more about interactive tables.';\n",
              "          element.innerHTML = '';\n",
              "          dataTable['output_type'] = 'display_data';\n",
              "          await google.colab.output.renderOutput(dataTable, element);\n",
              "          const docLink = document.createElement('div');\n",
              "          docLink.innerHTML = docLinkHtml;\n",
              "          element.appendChild(docLink);\n",
              "        }\n",
              "      </script>\n",
              "    </div>\n",
              "  </div>\n",
              "  "
            ],
            "text/plain": [
              "   passengers\n",
              "0         112\n",
              "1         118\n",
              "2         132\n",
              "3         129\n",
              "4         121"
            ]
          },
          "metadata": {},
          "execution_count": 9
        }
      ]
    },
    {
      "cell_type": "code",
      "source": [
        "# df2.head()\n",
        "# normalize the dataset\n",
        "scaler = MinMaxScaler(feature_range=(0, 1))\n",
        "dataset = scaler.fit_transform(dataset)"
      ],
      "metadata": {
        "id": "uVO58rmyKhje"
      },
      "execution_count": 12,
      "outputs": []
    },
    {
      "cell_type": "code",
      "source": [
        "\n",
        "# split into train and test sets\n",
        "train_size = int(len(dataset) * 0.67)\n",
        "test_size = len(dataset) - train_size\n",
        "train, test = dataset[0:train_size,:], dataset[train_size:len(dataset),:]\n",
        "print(len(train), len(test))"
      ],
      "metadata": {
        "colab": {
          "base_uri": "https://localhost:8080/"
        },
        "id": "suu2PP-dKjs_",
        "outputId": "5df85723-136a-4b60-f2cb-663185dcac0e"
      },
      "execution_count": 14,
      "outputs": [
        {
          "output_type": "stream",
          "name": "stdout",
          "text": [
            "96 48\n"
          ]
        }
      ]
    },
    {
      "cell_type": "code",
      "source": [
        "# convert an array of values into a dataset matrix\n",
        "def create_dataset(dataset, look_back=1):\n",
        "\tdataX, dataY = [], []\n",
        "\tfor i in range(len(dataset)-look_back-1):\n",
        "\t\ta = dataset[i:(i+look_back), 0]\n",
        "\t\tdataX.append(a)\n",
        "\t\tdataY.append(dataset[i + look_back, 0])\n",
        "\treturn numpy.array(dataX), numpy.array(dataY)"
      ],
      "metadata": {
        "id": "omLx3fJ3LZM4"
      },
      "execution_count": 16,
      "outputs": []
    },
    {
      "cell_type": "code",
      "source": [
        "# reshape into X=t and Y=t+1\n",
        "look_back = 1\n",
        "trainX, trainY = create_dataset(train, look_back)\n",
        "testX, testY = create_dataset(test, look_back)"
      ],
      "metadata": {
        "id": "dSar0qH3cuk-"
      },
      "execution_count": 17,
      "outputs": []
    },
    {
      "cell_type": "code",
      "source": [
        "# reshape input to be [samples, time steps, features]\n",
        "trainX = numpy.reshape(trainX, (trainX.shape[0], 1, trainX.shape[1]))\n",
        "testX = numpy.reshape(testX, (testX.shape[0], 1, testX.shape[1]))"
      ],
      "metadata": {
        "id": "U63aDAZjc7F8"
      },
      "execution_count": 18,
      "outputs": []
    },
    {
      "cell_type": "code",
      "source": [
        "\n",
        "# create and fit the LSTM network\n",
        "model = Sequential()\n",
        "model.add(LSTM(4, input_shape=(1, look_back)))\n",
        "model.add(Dense(1))\n",
        "model.compile(loss='mean_squared_error', optimizer='adam')\n",
        "model.fit(trainX, trainY, epochs=100, batch_size=1, verbose=2)"
      ],
      "metadata": {
        "colab": {
          "base_uri": "https://localhost:8080/"
        },
        "id": "nkDRU1j5c-hr",
        "outputId": "4a817f04-82f0-4d3c-bd0d-6d14306a341d"
      },
      "execution_count": 19,
      "outputs": [
        {
          "output_type": "stream",
          "name": "stdout",
          "text": [
            "Epoch 1/100\n",
            "94/94 - 2s - loss: 0.0511 - 2s/epoch - 20ms/step\n",
            "Epoch 2/100\n",
            "94/94 - 0s - loss: 0.0260 - 226ms/epoch - 2ms/step\n",
            "Epoch 3/100\n",
            "94/94 - 0s - loss: 0.0199 - 245ms/epoch - 3ms/step\n",
            "Epoch 4/100\n",
            "94/94 - 0s - loss: 0.0181 - 295ms/epoch - 3ms/step\n",
            "Epoch 5/100\n",
            "94/94 - 0s - loss: 0.0169 - 256ms/epoch - 3ms/step\n",
            "Epoch 6/100\n",
            "94/94 - 0s - loss: 0.0160 - 268ms/epoch - 3ms/step\n",
            "Epoch 7/100\n",
            "94/94 - 0s - loss: 0.0151 - 198ms/epoch - 2ms/step\n",
            "Epoch 8/100\n",
            "94/94 - 0s - loss: 0.0142 - 135ms/epoch - 1ms/step\n",
            "Epoch 9/100\n",
            "94/94 - 0s - loss: 0.0131 - 131ms/epoch - 1ms/step\n",
            "Epoch 10/100\n",
            "94/94 - 0s - loss: 0.0122 - 127ms/epoch - 1ms/step\n",
            "Epoch 11/100\n",
            "94/94 - 0s - loss: 0.0110 - 128ms/epoch - 1ms/step\n",
            "Epoch 12/100\n",
            "94/94 - 0s - loss: 0.0099 - 128ms/epoch - 1ms/step\n",
            "Epoch 13/100\n",
            "94/94 - 0s - loss: 0.0085 - 126ms/epoch - 1ms/step\n",
            "Epoch 14/100\n",
            "94/94 - 0s - loss: 0.0073 - 130ms/epoch - 1ms/step\n",
            "Epoch 15/100\n",
            "94/94 - 0s - loss: 0.0060 - 126ms/epoch - 1ms/step\n",
            "Epoch 16/100\n",
            "94/94 - 0s - loss: 0.0049 - 141ms/epoch - 1ms/step\n",
            "Epoch 17/100\n",
            "94/94 - 0s - loss: 0.0039 - 127ms/epoch - 1ms/step\n",
            "Epoch 18/100\n",
            "94/94 - 0s - loss: 0.0033 - 124ms/epoch - 1ms/step\n",
            "Epoch 19/100\n",
            "94/94 - 0s - loss: 0.0028 - 129ms/epoch - 1ms/step\n",
            "Epoch 20/100\n",
            "94/94 - 0s - loss: 0.0026 - 126ms/epoch - 1ms/step\n",
            "Epoch 21/100\n",
            "94/94 - 0s - loss: 0.0023 - 143ms/epoch - 2ms/step\n",
            "Epoch 22/100\n",
            "94/94 - 0s - loss: 0.0022 - 149ms/epoch - 2ms/step\n",
            "Epoch 23/100\n",
            "94/94 - 0s - loss: 0.0021 - 141ms/epoch - 2ms/step\n",
            "Epoch 24/100\n",
            "94/94 - 0s - loss: 0.0020 - 137ms/epoch - 1ms/step\n",
            "Epoch 25/100\n",
            "94/94 - 0s - loss: 0.0020 - 126ms/epoch - 1ms/step\n",
            "Epoch 26/100\n",
            "94/94 - 0s - loss: 0.0020 - 134ms/epoch - 1ms/step\n",
            "Epoch 27/100\n",
            "94/94 - 0s - loss: 0.0020 - 128ms/epoch - 1ms/step\n",
            "Epoch 28/100\n",
            "94/94 - 0s - loss: 0.0020 - 126ms/epoch - 1ms/step\n",
            "Epoch 29/100\n",
            "94/94 - 0s - loss: 0.0020 - 127ms/epoch - 1ms/step\n",
            "Epoch 30/100\n",
            "94/94 - 0s - loss: 0.0020 - 125ms/epoch - 1ms/step\n",
            "Epoch 31/100\n",
            "94/94 - 0s - loss: 0.0020 - 135ms/epoch - 1ms/step\n",
            "Epoch 32/100\n",
            "94/94 - 0s - loss: 0.0020 - 124ms/epoch - 1ms/step\n",
            "Epoch 33/100\n",
            "94/94 - 0s - loss: 0.0020 - 125ms/epoch - 1ms/step\n",
            "Epoch 34/100\n",
            "94/94 - 0s - loss: 0.0020 - 145ms/epoch - 2ms/step\n",
            "Epoch 35/100\n",
            "94/94 - 0s - loss: 0.0020 - 126ms/epoch - 1ms/step\n",
            "Epoch 36/100\n",
            "94/94 - 0s - loss: 0.0021 - 127ms/epoch - 1ms/step\n",
            "Epoch 37/100\n",
            "94/94 - 0s - loss: 0.0020 - 128ms/epoch - 1ms/step\n",
            "Epoch 38/100\n",
            "94/94 - 0s - loss: 0.0020 - 126ms/epoch - 1ms/step\n",
            "Epoch 39/100\n",
            "94/94 - 0s - loss: 0.0020 - 132ms/epoch - 1ms/step\n",
            "Epoch 40/100\n",
            "94/94 - 0s - loss: 0.0021 - 126ms/epoch - 1ms/step\n",
            "Epoch 41/100\n",
            "94/94 - 0s - loss: 0.0020 - 139ms/epoch - 1ms/step\n",
            "Epoch 42/100\n",
            "94/94 - 0s - loss: 0.0020 - 131ms/epoch - 1ms/step\n",
            "Epoch 43/100\n",
            "94/94 - 0s - loss: 0.0020 - 132ms/epoch - 1ms/step\n",
            "Epoch 44/100\n",
            "94/94 - 0s - loss: 0.0020 - 129ms/epoch - 1ms/step\n",
            "Epoch 45/100\n",
            "94/94 - 0s - loss: 0.0021 - 135ms/epoch - 1ms/step\n",
            "Epoch 46/100\n",
            "94/94 - 0s - loss: 0.0020 - 135ms/epoch - 1ms/step\n",
            "Epoch 47/100\n",
            "94/94 - 0s - loss: 0.0020 - 129ms/epoch - 1ms/step\n",
            "Epoch 48/100\n",
            "94/94 - 0s - loss: 0.0021 - 135ms/epoch - 1ms/step\n",
            "Epoch 49/100\n",
            "94/94 - 0s - loss: 0.0020 - 147ms/epoch - 2ms/step\n",
            "Epoch 50/100\n",
            "94/94 - 0s - loss: 0.0019 - 138ms/epoch - 1ms/step\n",
            "Epoch 51/100\n",
            "94/94 - 0s - loss: 0.0020 - 126ms/epoch - 1ms/step\n",
            "Epoch 52/100\n",
            "94/94 - 0s - loss: 0.0020 - 130ms/epoch - 1ms/step\n",
            "Epoch 53/100\n",
            "94/94 - 0s - loss: 0.0020 - 128ms/epoch - 1ms/step\n",
            "Epoch 54/100\n",
            "94/94 - 0s - loss: 0.0020 - 139ms/epoch - 1ms/step\n",
            "Epoch 55/100\n",
            "94/94 - 0s - loss: 0.0020 - 127ms/epoch - 1ms/step\n",
            "Epoch 56/100\n",
            "94/94 - 0s - loss: 0.0020 - 125ms/epoch - 1ms/step\n",
            "Epoch 57/100\n",
            "94/94 - 0s - loss: 0.0020 - 122ms/epoch - 1ms/step\n",
            "Epoch 58/100\n",
            "94/94 - 0s - loss: 0.0021 - 128ms/epoch - 1ms/step\n",
            "Epoch 59/100\n",
            "94/94 - 0s - loss: 0.0020 - 126ms/epoch - 1ms/step\n",
            "Epoch 60/100\n",
            "94/94 - 0s - loss: 0.0020 - 127ms/epoch - 1ms/step\n",
            "Epoch 61/100\n",
            "94/94 - 0s - loss: 0.0020 - 133ms/epoch - 1ms/step\n",
            "Epoch 62/100\n",
            "94/94 - 0s - loss: 0.0020 - 127ms/epoch - 1ms/step\n",
            "Epoch 63/100\n",
            "94/94 - 0s - loss: 0.0020 - 125ms/epoch - 1ms/step\n",
            "Epoch 64/100\n",
            "94/94 - 0s - loss: 0.0021 - 125ms/epoch - 1ms/step\n",
            "Epoch 65/100\n",
            "94/94 - 0s - loss: 0.0020 - 141ms/epoch - 1ms/step\n",
            "Epoch 66/100\n",
            "94/94 - 0s - loss: 0.0020 - 144ms/epoch - 2ms/step\n",
            "Epoch 67/100\n",
            "94/94 - 0s - loss: 0.0021 - 156ms/epoch - 2ms/step\n",
            "Epoch 68/100\n",
            "94/94 - 0s - loss: 0.0021 - 147ms/epoch - 2ms/step\n",
            "Epoch 69/100\n",
            "94/94 - 0s - loss: 0.0020 - 162ms/epoch - 2ms/step\n",
            "Epoch 70/100\n",
            "94/94 - 0s - loss: 0.0020 - 153ms/epoch - 2ms/step\n",
            "Epoch 71/100\n",
            "94/94 - 0s - loss: 0.0021 - 151ms/epoch - 2ms/step\n",
            "Epoch 72/100\n",
            "94/94 - 0s - loss: 0.0020 - 128ms/epoch - 1ms/step\n",
            "Epoch 73/100\n",
            "94/94 - 0s - loss: 0.0021 - 135ms/epoch - 1ms/step\n",
            "Epoch 74/100\n",
            "94/94 - 0s - loss: 0.0020 - 124ms/epoch - 1ms/step\n",
            "Epoch 75/100\n",
            "94/94 - 0s - loss: 0.0020 - 134ms/epoch - 1ms/step\n",
            "Epoch 76/100\n",
            "94/94 - 0s - loss: 0.0020 - 137ms/epoch - 1ms/step\n",
            "Epoch 77/100\n",
            "94/94 - 0s - loss: 0.0020 - 140ms/epoch - 1ms/step\n",
            "Epoch 78/100\n",
            "94/94 - 0s - loss: 0.0020 - 147ms/epoch - 2ms/step\n",
            "Epoch 79/100\n",
            "94/94 - 0s - loss: 0.0021 - 125ms/epoch - 1ms/step\n",
            "Epoch 80/100\n",
            "94/94 - 0s - loss: 0.0020 - 127ms/epoch - 1ms/step\n",
            "Epoch 81/100\n",
            "94/94 - 0s - loss: 0.0020 - 135ms/epoch - 1ms/step\n",
            "Epoch 82/100\n",
            "94/94 - 0s - loss: 0.0020 - 127ms/epoch - 1ms/step\n",
            "Epoch 83/100\n",
            "94/94 - 0s - loss: 0.0020 - 135ms/epoch - 1ms/step\n",
            "Epoch 84/100\n",
            "94/94 - 0s - loss: 0.0020 - 125ms/epoch - 1ms/step\n",
            "Epoch 85/100\n",
            "94/94 - 0s - loss: 0.0020 - 129ms/epoch - 1ms/step\n",
            "Epoch 86/100\n",
            "94/94 - 0s - loss: 0.0020 - 124ms/epoch - 1ms/step\n",
            "Epoch 87/100\n",
            "94/94 - 0s - loss: 0.0020 - 130ms/epoch - 1ms/step\n",
            "Epoch 88/100\n",
            "94/94 - 0s - loss: 0.0020 - 127ms/epoch - 1ms/step\n",
            "Epoch 89/100\n",
            "94/94 - 0s - loss: 0.0020 - 138ms/epoch - 1ms/step\n",
            "Epoch 90/100\n",
            "94/94 - 0s - loss: 0.0020 - 129ms/epoch - 1ms/step\n",
            "Epoch 91/100\n",
            "94/94 - 0s - loss: 0.0021 - 134ms/epoch - 1ms/step\n",
            "Epoch 92/100\n",
            "94/94 - 0s - loss: 0.0022 - 128ms/epoch - 1ms/step\n",
            "Epoch 93/100\n",
            "94/94 - 0s - loss: 0.0019 - 131ms/epoch - 1ms/step\n",
            "Epoch 94/100\n",
            "94/94 - 0s - loss: 0.0020 - 134ms/epoch - 1ms/step\n",
            "Epoch 95/100\n",
            "94/94 - 0s - loss: 0.0021 - 143ms/epoch - 2ms/step\n",
            "Epoch 96/100\n",
            "94/94 - 0s - loss: 0.0020 - 124ms/epoch - 1ms/step\n",
            "Epoch 97/100\n",
            "94/94 - 0s - loss: 0.0020 - 125ms/epoch - 1ms/step\n",
            "Epoch 98/100\n",
            "94/94 - 0s - loss: 0.0020 - 136ms/epoch - 1ms/step\n",
            "Epoch 99/100\n",
            "94/94 - 0s - loss: 0.0020 - 124ms/epoch - 1ms/step\n",
            "Epoch 100/100\n",
            "94/94 - 0s - loss: 0.0020 - 133ms/epoch - 1ms/step\n"
          ]
        },
        {
          "output_type": "execute_result",
          "data": {
            "text/plain": [
              "<keras.callbacks.History at 0x7feb77725390>"
            ]
          },
          "metadata": {},
          "execution_count": 19
        }
      ]
    },
    {
      "cell_type": "code",
      "source": [
        "# make predictions\n",
        "trainPredict = model.predict(trainX)\n",
        "testPredict = model.predict(testX)\n",
        "# invert predictions\n",
        "trainPredict = scaler.inverse_transform(trainPredict)\n",
        "trainY = scaler.inverse_transform([trainY])\n",
        "testPredict = scaler.inverse_transform(testPredict)\n",
        "testY = scaler.inverse_transform([testY])\n",
        "# calculate root mean squared error\n",
        "trainScore = math.sqrt(mean_squared_error(trainY[0], trainPredict[:,0]))\n",
        "print('Train Score: %.2f RMSE' % (trainScore))\n",
        "testScore = math.sqrt(mean_squared_error(testY[0], testPredict[:,0]))\n",
        "print('Test Score: %.2f RMSE' % (testScore))"
      ],
      "metadata": {
        "colab": {
          "base_uri": "https://localhost:8080/"
        },
        "id": "dXr1ZHqLdIZM",
        "outputId": "2373a712-0ef3-4314-8e72-ff94d9c869e3"
      },
      "execution_count": 20,
      "outputs": [
        {
          "output_type": "stream",
          "name": "stdout",
          "text": [
            "Train Score: 0.04 RMSE\n",
            "Test Score: 0.09 RMSE\n"
          ]
        }
      ]
    },
    {
      "cell_type": "code",
      "source": [
        "# shift train predictions for plotting\n",
        "trainPredictPlot = numpy.empty_like(dataset)\n",
        "trainPredictPlot[:, :] = numpy.nan\n",
        "trainPredictPlot[look_back:len(trainPredict)+look_back, :] = trainPredict\n",
        "# shift test predictions for plotting\n",
        "testPredictPlot = numpy.empty_like(dataset)\n",
        "testPredictPlot[:, :] = numpy.nan\n",
        "testPredictPlot[len(trainPredict)+(look_back*2)+1:len(dataset)-1, :] = testPredict\n",
        "# plot baseline and predictions\n",
        "plt.plot(scaler.inverse_transform(dataset))\n",
        "plt.plot(trainPredictPlot)\n",
        "plt.plot(testPredictPlot)\n",
        "plt.show()"
      ],
      "metadata": {
        "colab": {
          "base_uri": "https://localhost:8080/",
          "height": 265
        },
        "id": "FDJtyvWFdWLN",
        "outputId": "5c6c7685-378a-4dd9-9681-401ed0a06e58"
      },
      "execution_count": 21,
      "outputs": [
        {
          "output_type": "display_data",
          "data": {
            "image/png": "[encoded data removed]",
            "text/plain": [
              "<Figure size 432x288 with 1 Axes>"
            ]
          },
          "metadata": {
            "needs_background": "light"
          }
        }
      ]
    }
  ]
}